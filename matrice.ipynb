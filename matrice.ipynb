{
 "cells": [
  {
   "attachments": {},
   "cell_type": "markdown",
   "metadata": {},
   "source": [
    "### Ejemplo de problema de asignación en logística:"
   ]
  },
  {
   "attachments": {},
   "cell_type": "markdown",
   "metadata": {},
   "source": [
    "#### Situación de la vida real que puede resolverse utilizando una matriz de n incógnitas por 𝑚 ecuaciones\n",
    "\n",
    "#### Problema: Una cooperativa de consumo quiere asignar varios empleados a diferentes tareas, de manera que el tiempo total de trabajo sea mínimo o la eficiencia sea máxima. Cada empleado tiene un rendimiento diferente en cada tarea. Las tareas son comprar en el mayorista, armar los combos y distribuirlos. \n",
    "\n",
    "##### Las incógnitas son las asignaciones de empleados a tareas, y las ecuaciones representan las restricciones de que cada tarea debe ser realizada y cada empleado solo puede realizar una tarea a la vez. La matriz refleja la relación entre empleados y tareas.\n",
    "\n",
    "##### Ayuda: Usar el método húngaro.\n",
    "\n",
    "##### Este ejemplo muestra cómo las matrices se utilizan para modelar y resolver problemas complejos, proporcionando una herramienta poderosa para la toma de decisiones."
   ]
  },
  {
   "cell_type": "code",
   "execution_count": 3,
   "metadata": {},
   "outputs": [],
   "source": [
    "import random\n",
    "\n",
    "def NumeroRandom(n):\n",
    "    # Generar un número aleatorio entre -n y n\n",
    "    return random.randint(-n, n)"
   ]
  },
  {
   "attachments": {},
   "cell_type": "markdown",
   "metadata": {},
   "source": [
    "# Nomenclar la matriz"
   ]
  },
  {
   "cell_type": "code",
   "execution_count": 1,
   "metadata": {},
   "outputs": [
    {
     "name": "stdout",
     "output_type": "stream",
     "text": [
      "a11 a12 \n",
      "a21 a22 \n",
      "a31 a32 \n"
     ]
    }
   ],
   "source": [
    "m=3\n",
    "n=2\n",
    "p=3\n",
    "\n",
    "for i in range(1, m + 1):\n",
    "    a = \"\"\n",
    "    for j in range(1, n + 1):\n",
    "        a += f\"a{i}{j} \"\n",
    "    print(a)"
   ]
  },
  {
   "attachments": {},
   "cell_type": "markdown",
   "metadata": {},
   "source": [
    "# Crear la primera matriz con valores aleatorios entre -10 y 10"
   ]
  },
  {
   "cell_type": "code",
   "execution_count": 4,
   "metadata": {},
   "outputs": [
    {
     "name": "stdout",
     "output_type": "stream",
     "text": [
      "Matriz A con valores random:\n",
      "-4 -1\n",
      " 6 -3\n",
      "-2 -1\n"
     ]
    }
   ],
   "source": [
    "A=[]\n",
    "print(\"Matriz A con valores random:\")\n",
    "for i in range(m):\n",
    "        fila = []\n",
    "        for j in range(n):\n",
    "            x = NumeroRandom(9)\n",
    "            fila.append(x)\n",
    "        A.append(fila)\n",
    "        print(\" \".join([f\"{x:2}\" for x in fila]))"
   ]
  },
  {
   "attachments": {},
   "cell_type": "markdown",
   "metadata": {},
   "source": [
    "# Crear la segunda matriz con valores aleatorios entre -10 y 10"
   ]
  },
  {
   "cell_type": "code",
   "execution_count": 5,
   "metadata": {},
   "outputs": [
    {
     "name": "stdout",
     "output_type": "stream",
     "text": [
      "Matriz B con valores random:\n",
      " 9  3 -7\n",
      "-6 -4  3\n"
     ]
    }
   ],
   "source": [
    "B=[]\n",
    "print(\"Matriz B con valores random:\")\n",
    "for i in range(n):\n",
    "        fila = []\n",
    "        for j in range(p):\n",
    "            x = NumeroRandom(10)\n",
    "            fila.append(x)\n",
    "        B.append(fila)\n",
    "        print(\" \".join([f\"{x:2}\" for x in fila]))"
   ]
  },
  {
   "attachments": {},
   "cell_type": "markdown",
   "metadata": {},
   "source": [
    "# Sumar las dos matrices"
   ]
  },
  {
   "cell_type": "code",
   "execution_count": 6,
   "metadata": {},
   "outputs": [
    {
     "name": "stdout",
     "output_type": "stream",
     "text": [
      "Suma las matrices:\n",
      " 5  2\n",
      " 0 -7\n"
     ]
    },
    {
     "ename": "IndexError",
     "evalue": "list index out of range",
     "output_type": "error",
     "traceback": [
      "\u001b[1;31m---------------------------------------------------------------------------\u001b[0m",
      "\u001b[1;31mIndexError\u001b[0m                                Traceback (most recent call last)",
      "Cell \u001b[1;32mIn[6], line 6\u001b[0m\n\u001b[0;32m      4\u001b[0m fila \u001b[39m=\u001b[39m []\n\u001b[0;32m      5\u001b[0m \u001b[39mfor\u001b[39;00m j \u001b[39min\u001b[39;00m \u001b[39mrange\u001b[39m(n):\n\u001b[1;32m----> 6\u001b[0m     x \u001b[39m=\u001b[39m A[i][j] \u001b[39m+\u001b[39m B[i][j]\n\u001b[0;32m      7\u001b[0m     fila\u001b[39m.\u001b[39mappend(x)\n\u001b[0;32m      8\u001b[0m R\u001b[39m.\u001b[39mappend(fila)\n",
      "\u001b[1;31mIndexError\u001b[0m: list index out of range"
     ]
    }
   ],
   "source": [
    "print(\"Suma las matrices:\")\n",
    "R = []\n",
    "for i in range(m):\n",
    "        fila = []\n",
    "        for j in range(n):\n",
    "            x = A[i][j] + B[i][j]\n",
    "            fila.append(x)\n",
    "        R.append(fila)\n",
    "        print(\" \".join([f\"{x:2}\" for x in fila]))"
   ]
  },
  {
   "attachments": {},
   "cell_type": "markdown",
   "metadata": {},
   "source": [
    "# Multiplicar la primera matriz por un escalar"
   ]
  },
  {
   "cell_type": "code",
   "execution_count": 7,
   "metadata": {},
   "outputs": [
    {
     "name": "stdout",
     "output_type": "stream",
     "text": [
      "Matriz A:\n",
      "-4 -1\n",
      " 6 -3\n",
      "-2 -1\n",
      "\n",
      "Matriz A multiplicada por escalar 2:\n",
      "-8 -2\n",
      "12 -6\n",
      "-4 -2\n"
     ]
    }
   ],
   "source": [
    "print(\"Matriz A:\")\n",
    "for i in range(m):\n",
    "    print(\" \".join([f\"{x:2}\" for x in A[i]]))\n",
    "print(\"\")\n",
    "\n",
    "print(\"Matriz A multiplicada por escalar 2:\")\n",
    "alpha = 2\n",
    "for i in range(m):\n",
    "    fila = []\n",
    "    for j in range(n):\n",
    "        x = alpha * A[i][j]\n",
    "        fila.append(x)\n",
    "    print(\" \".join([f\"{x:2}\" for x in fila]))"
   ]
  },
  {
   "attachments": {},
   "cell_type": "markdown",
   "metadata": {},
   "source": [
    "# Matriz identidad"
   ]
  },
  {
   "cell_type": "code",
   "execution_count": 8,
   "metadata": {},
   "outputs": [
    {
     "name": "stdout",
     "output_type": "stream",
     "text": [
      "Matriz identidad:\n",
      "No se puede crear una matriz identidad, ya que la matriz no es cuadrada.\n"
     ]
    }
   ],
   "source": [
    "def crear_identidad(m, n):\n",
    "    if m != n:\n",
    "        print(\"No se puede crear una matriz identidad, ya que la matriz no es cuadrada.\")\n",
    "        return None\n",
    "\n",
    "    identidad = []\n",
    "    for i in range(m):\n",
    "        fila = []\n",
    "        for j in range(n):\n",
    "            x = 1 if i == j else 0\n",
    "            fila.append(x)\n",
    "        identidad.append(fila)\n",
    "        print(\" \".join([f\"{x:2}\" for x in fila]))\n",
    "    #return identidad\n",
    "\n",
    "print(\"Matriz identidad:\")\n",
    "crear_identidad(m, n)"
   ]
  },
  {
   "attachments": {},
   "cell_type": "markdown",
   "metadata": {},
   "source": [
    "# Multiplicación de A x B"
   ]
  },
  {
   "cell_type": "code",
   "execution_count": 9,
   "metadata": {},
   "outputs": [
    {
     "name": "stdout",
     "output_type": "stream",
     "text": [
      "Matriz A:\n",
      "-4 -1\n",
      " 6 -3\n",
      "-2 -1\n",
      "\n",
      "Matriz B:\n",
      " 9  3 -7\n",
      "-6 -4  3\n",
      "\n",
      "Matriz AxB:\n",
      " -30   -8   25\n",
      "  72   30  -51\n",
      " -12   -2   11\n"
     ]
    }
   ],
   "source": [
    "def multiplicacion(A, B):\n",
    "    if len(A[0]) != len(B):\n",
    "        print(\"No se puede multiplicar, ya que las columnas de la primera matriz\"+\n",
    "              \"no son iguales a las filas de la segunda matriz.\")\n",
    "        return None\n",
    "\n",
    "    # Dimensiones de la matriz resultante C\n",
    "    m = len(A)       # Número de filas en A\n",
    "    n = len(B)       # Número de filas en B o columnas en A\n",
    "    p = len(B[0])    # Número de columnas en B\n",
    "    # Inicializa C en cero para todos sus componentes\n",
    "    C = [[0] * p for _ in range(m)]\n",
    "\n",
    "    # Multiplica siguiendo Σn i=k aik * akj\n",
    "    for i in range(m):\n",
    "        for j in range(p):\n",
    "            for k in range(n):\n",
    "                C[i][j] += A[i][k] * B[k][j]\n",
    "\n",
    "    # Imprime el resultado de la matriz C\n",
    "    for fila in C:\n",
    "        print(\" \".join([f\"{x:4}\" for x in fila]))\n",
    "\n",
    "    # return C\n",
    "\n",
    "print(\"Matriz A:\")\n",
    "for i in range(m):\n",
    "    print(\" \".join([f\"{x:2}\" for x in A[i]]))\n",
    "print(\"\")\n",
    "\n",
    "print(\"Matriz B:\")\n",
    "for i in range(n):\n",
    "    print(\" \".join([f\"{x:2}\" for x in B[i]]))\n",
    "print(\"\")\n",
    "\n",
    "print(\"Matriz AxB:\")\n",
    "multiplicacion(A, B)"
   ]
  },
  {
   "cell_type": "code",
   "execution_count": 10,
   "metadata": {},
   "outputs": [
    {
     "name": "stdout",
     "output_type": "stream",
     "text": [
      "No se puede multiplicar, ya que las columnas de la primera matrizno son iguales a las filas de la segunda matriz.\n"
     ]
    }
   ],
   "source": [
    "matriz_otra = [(2,1,3),(3,5,6),(3,6,8)]\n",
    "matriz_otra_mas = [(2,5),(3,8),(5,-2),(5,5)]\n",
    "\n",
    "multiplicacion(matriz_otra,matriz_otra_mas)"
   ]
  },
  {
   "attachments": {},
   "cell_type": "markdown",
   "metadata": {},
   "source": [
    "## Matriz inversa\n",
    "#### Sean A y B dos matrices de n x n, B es inversa de A y A de B si B x A y A x B dan como resultado I\n",
    "\n",
    "###### Procedimiento para encontrar la matriz inversa de una matriz cuadrada\n",
    "###### 1- Se escribe la matriz aumentada A | I\n",
    "###### 2- Se usa Gauss Jordan para poner A en su forma escalonada reducida por renglones\n",
    "###### 3- a_ Si A es la matriz identidad, entonces A-1 es la matriz que queda a la derecha\n",
    "###### b- Si la reducción de A conduce a un renglón de todos ceros a la dcha, entonces A no es invertible\n",
    "\n",
    "#### Pasos del algoritmo\n",
    "##### 1) Verificar que la matriz de la que se quiere obtener su inversa sea cuadrada (n x n)\n",
    "##### 2) Verificar que el determinante de la matriz (|A|) no sea cero\n",
    "##### 3) Calcular la matriz de cofactores se calcula como el determinante de la submatriz que queda al eliminar la fila y columna del elemento actual, multiplicado por # (− 1) elevado a 𝑖+𝑗, donde 𝑖 y 𝑗 son los índices de la fila y columna del elemento.\n",
    "##### 4) Calcular la matriz adjunta (adj(A)) que es la trasposición de la matriz de cofactores\n",
    "##### 5) Obtener la inversa de A como 1/|A|*adj(A)"
   ]
  },
  {
   "attachments": {},
   "cell_type": "markdown",
   "metadata": {},
   "source": [
    "### Cálculo del determinante de una matriz"
   ]
  },
  {
   "cell_type": "code",
   "execution_count": 11,
   "metadata": {},
   "outputs": [
    {
     "name": "stdout",
     "output_type": "stream",
     "text": [
      "El determinante de la matriz es: 1\n"
     ]
    }
   ],
   "source": [
    "def determinante(matriz):\n",
    "    # Obtener el tamaño de la matriz\n",
    "    n = len(matriz)\n",
    "    \n",
    "    # Caso base para una matriz 1x1\n",
    "    if n == 1:\n",
    "        return matriz[0][0]\n",
    "    \n",
    "    # Caso base para una matriz 2x2\n",
    "    if n == 2:\n",
    "        return matriz[0][0] * matriz[1][1] - matriz[0][1] * matriz[1][0]\n",
    "    \n",
    "    # Caso general para matrices mayores de 2x2\n",
    "    det = 0\n",
    "    for col in range(n):\n",
    "        # Crear la submatriz eliminando la primera fila y la columna actual\n",
    "        submatriz = [fila[:col] + fila[col+1:] for fila in matriz[1:]]\n",
    "        \n",
    "        # Calcular el determinante de la submatriz\n",
    "        subdet = determinante(submatriz)\n",
    "        \n",
    "        # Alternar el signo y sumar al determinante total\n",
    "        det += ((-1) ** col) * matriz[0][col] * subdet\n",
    "    \n",
    "    return det\n",
    "\n",
    "# Ejemplo de uso\n",
    "matriz = [\n",
    "    [1, 2, 3],\n",
    "    [0, 1, 4],\n",
    "    [5, 6, 0]\n",
    "]\n",
    "\n",
    "print(\"El determinante de la matriz es:\", determinante(matriz))"
   ]
  }
 ],
 "metadata": {
  "kernelspec": {
   "display_name": "Python 3",
   "language": "python",
   "name": "python3"
  },
  "language_info": {
   "codemirror_mode": {
    "name": "ipython",
    "version": 3
   },
   "file_extension": ".py",
   "mimetype": "text/x-python",
   "name": "python",
   "nbconvert_exporter": "python",
   "pygments_lexer": "ipython3",
   "version": "3.11.4"
  },
  "orig_nbformat": 4
 },
 "nbformat": 4,
 "nbformat_minor": 2
}
