{
  "cells": [
    {
      "cell_type": "markdown",
      "metadata": {
        "id": "view-in-github",
        "colab_type": "text"
      },
      "source": [
        "<a href=\"https://colab.research.google.com/github/tromenArarat/Algebra_II/blob/main/matrice.ipynb\" target=\"_parent\"><img src=\"https://colab.research.google.com/assets/colab-badge.svg\" alt=\"Open In Colab\"/></a>"
      ]
    },
    {
      "cell_type": "markdown",
      "metadata": {
        "id": "iHqMyOaYBcXT"
      },
      "source": [
        "### Ejemplo de problema de asignación en logística:"
      ]
    },
    {
      "cell_type": "markdown",
      "metadata": {
        "id": "A-Kzu3btBcXW"
      },
      "source": [
        "#### Situación de la vida real que puede resolverse utilizando una matriz de n incógnitas por 𝑚 ecuaciones\n",
        "\n",
        "Problema: Una cooperativa de consumo quiere asignar varios empleados a diferentes tareas, de manera que el tiempo total de trabajo sea mínimo o la eficiencia sea máxima. Cada empleado tiene un rendimiento diferente en cada tarea. Las tareas son comprar en el mayorista, armar los combos y distribuirlos.\n",
        "\n",
        "Modelo: Las incógnitas son las asignaciones de empleados a tareas, y las ecuaciones representan las restricciones de que cada tarea debe ser realizada y cada empleado solo puede realizar una tarea a la vez. La matriz refleja la relación entre empleados y tareas.\n",
        "\n",
        "Este ejemplo muestra cómo las matrices se utilizan para modelar y resolver problemas complejos, proporcionando una herramienta poderosa para la toma de decisiones."
      ]
    },
    {
      "cell_type": "code",
      "execution_count": 4,
      "metadata": {
        "id": "Fo7e14CZBcXX"
      },
      "outputs": [],
      "source": [
        "import random\n",
        "\n",
        "def NumeroRandom(n):\n",
        "    # Generar un número aleatorio entre -n y n\n",
        "    return random.randint(-n, n)"
      ]
    },
    {
      "cell_type": "markdown",
      "metadata": {
        "id": "zkO3kuMtBcXZ"
      },
      "source": [
        "# Nomenclar la matriz"
      ]
    },
    {
      "cell_type": "code",
      "execution_count": 31,
      "metadata": {
        "id": "--0Qf624BcXZ",
        "outputId": "d06eefe3-184e-4bde-8316-1efa43d3aa89",
        "colab": {
          "base_uri": "https://localhost:8080/"
        }
      },
      "outputs": [
        {
          "output_type": "stream",
          "name": "stdout",
          "text": [
            "a11 a12 \n",
            "a21 a22 \n",
            "a31 a32 \n"
          ]
        }
      ],
      "source": [
        "m=3\n",
        "n=2\n",
        "p=3\n",
        "\n",
        "for i in range(1, m + 1):\n",
        "    a = \"\"\n",
        "    for j in range(1, n + 1):\n",
        "        a += f\"a{i}{j} \"\n",
        "    print(a)"
      ]
    },
    {
      "cell_type": "markdown",
      "metadata": {
        "id": "m__QkmOfBcXa"
      },
      "source": [
        "# Crear la primera matriz con valores aleatorios entre -10 y 10"
      ]
    },
    {
      "cell_type": "code",
      "execution_count": 42,
      "metadata": {
        "id": "4jrtz6WBBcXa",
        "outputId": "2ef4460a-1532-4003-b465-3f433748d96f",
        "colab": {
          "base_uri": "https://localhost:8080/"
        }
      },
      "outputs": [
        {
          "output_type": "stream",
          "name": "stdout",
          "text": [
            "Matriz A con valores random:\n",
            " 3  3\n",
            " 6  8\n",
            "-7 -9\n"
          ]
        }
      ],
      "source": [
        "A=[]\n",
        "print(\"Matriz A con valores random:\")\n",
        "for i in range(m):\n",
        "        fila = []\n",
        "        for j in range(n):\n",
        "            x = NumeroRandom(9)\n",
        "            fila.append(x)\n",
        "        A.append(fila)\n",
        "        print(\" \".join([f\"{x:2}\" for x in fila]))"
      ]
    },
    {
      "cell_type": "markdown",
      "metadata": {
        "id": "bh_ELN1DBcXb"
      },
      "source": [
        "# Crear la segunda matriz con valores aleatorios entre -10 y 10"
      ]
    },
    {
      "cell_type": "code",
      "execution_count": 33,
      "metadata": {
        "id": "NpIFtr4nBcXb",
        "outputId": "9d35eff7-da4d-4e53-afb0-d519859514cf",
        "colab": {
          "base_uri": "https://localhost:8080/"
        }
      },
      "outputs": [
        {
          "output_type": "stream",
          "name": "stdout",
          "text": [
            "Matriz B con valores random:\n",
            " 0 -7  1\n",
            "-5  6 -1\n"
          ]
        }
      ],
      "source": [
        "B=[]\n",
        "print(\"Matriz B con valores random:\")\n",
        "for i in range(n):\n",
        "        fila = []\n",
        "        for j in range(p):\n",
        "            x = NumeroRandom(10)\n",
        "            fila.append(x)\n",
        "        B.append(fila)\n",
        "        print(\" \".join([f\"{x:2}\" for x in fila]))"
      ]
    },
    {
      "cell_type": "markdown",
      "metadata": {
        "id": "od2P5GoqBcXb"
      },
      "source": [
        "# Sumar las dos matrices"
      ]
    },
    {
      "cell_type": "code",
      "execution_count": 37,
      "metadata": {
        "id": "U1nVwv0JBcXc",
        "outputId": "58b60655-761e-4beb-f73b-9cb4f4e5e507",
        "colab": {
          "base_uri": "https://localhost:8080/",
          "height": 263
        }
      },
      "outputs": [
        {
          "output_type": "stream",
          "name": "stdout",
          "text": [
            "Suma las matrices:\n",
            "-9 -10\n",
            "-14  3\n"
          ]
        },
        {
          "output_type": "error",
          "ename": "IndexError",
          "evalue": "list index out of range",
          "traceback": [
            "\u001b[0;31m---------------------------------------------------------------------------\u001b[0m",
            "\u001b[0;31mIndexError\u001b[0m                                Traceback (most recent call last)",
            "\u001b[0;32m<ipython-input-37-e43360ff1591>\u001b[0m in \u001b[0;36m<cell line: 3>\u001b[0;34m()\u001b[0m\n\u001b[1;32m      4\u001b[0m         \u001b[0mfila\u001b[0m \u001b[0;34m=\u001b[0m \u001b[0;34m[\u001b[0m\u001b[0;34m]\u001b[0m\u001b[0;34m\u001b[0m\u001b[0;34m\u001b[0m\u001b[0m\n\u001b[1;32m      5\u001b[0m         \u001b[0;32mfor\u001b[0m \u001b[0mj\u001b[0m \u001b[0;32min\u001b[0m \u001b[0mrange\u001b[0m\u001b[0;34m(\u001b[0m\u001b[0mn\u001b[0m\u001b[0;34m)\u001b[0m\u001b[0;34m:\u001b[0m\u001b[0;34m\u001b[0m\u001b[0;34m\u001b[0m\u001b[0m\n\u001b[0;32m----> 6\u001b[0;31m             \u001b[0mx\u001b[0m \u001b[0;34m=\u001b[0m \u001b[0mA\u001b[0m\u001b[0;34m[\u001b[0m\u001b[0mi\u001b[0m\u001b[0;34m]\u001b[0m\u001b[0;34m[\u001b[0m\u001b[0mj\u001b[0m\u001b[0;34m]\u001b[0m \u001b[0;34m+\u001b[0m \u001b[0mB\u001b[0m\u001b[0;34m[\u001b[0m\u001b[0mi\u001b[0m\u001b[0;34m]\u001b[0m\u001b[0;34m[\u001b[0m\u001b[0mj\u001b[0m\u001b[0;34m]\u001b[0m\u001b[0;34m\u001b[0m\u001b[0;34m\u001b[0m\u001b[0m\n\u001b[0m\u001b[1;32m      7\u001b[0m             \u001b[0mfila\u001b[0m\u001b[0;34m.\u001b[0m\u001b[0mappend\u001b[0m\u001b[0;34m(\u001b[0m\u001b[0mx\u001b[0m\u001b[0;34m)\u001b[0m\u001b[0;34m\u001b[0m\u001b[0;34m\u001b[0m\u001b[0m\n\u001b[1;32m      8\u001b[0m         \u001b[0mR\u001b[0m\u001b[0;34m.\u001b[0m\u001b[0mappend\u001b[0m\u001b[0;34m(\u001b[0m\u001b[0mfila\u001b[0m\u001b[0;34m)\u001b[0m\u001b[0;34m\u001b[0m\u001b[0;34m\u001b[0m\u001b[0m\n",
            "\u001b[0;31mIndexError\u001b[0m: list index out of range"
          ]
        }
      ],
      "source": [
        "print(\"Suma las matrices:\")\n",
        "R = []\n",
        "for i in range(m):\n",
        "        fila = []\n",
        "        for j in range(n):\n",
        "            x = A[i][j] + B[i][j]\n",
        "            fila.append(x)\n",
        "        R.append(fila)\n",
        "        print(\" \".join([f\"{x:2}\" for x in fila]))"
      ]
    },
    {
      "cell_type": "markdown",
      "metadata": {
        "id": "pY2jdtWhBcXc"
      },
      "source": [
        "# Multiplicar la primera matriz por un escalar"
      ]
    },
    {
      "cell_type": "code",
      "execution_count": 34,
      "metadata": {
        "id": "W3L0ojKTBcXc",
        "outputId": "6ceae4a5-c314-4d50-8e68-60001c35af93",
        "colab": {
          "base_uri": "https://localhost:8080/"
        }
      },
      "outputs": [
        {
          "output_type": "stream",
          "name": "stdout",
          "text": [
            "Matriz A:\n",
            "-9 -3\n",
            "-9 -3\n",
            "-9 -6\n",
            "\n",
            "Matriz A multiplicada por escalar 2:\n",
            "-18 -6\n",
            "-18 -6\n",
            "-18 -12\n"
          ]
        }
      ],
      "source": [
        "print(\"Matriz A:\")\n",
        "for i in range(m):\n",
        "    print(\" \".join([f\"{x:2}\" for x in A[i]]))\n",
        "print(\"\")\n",
        "\n",
        "print(\"Matriz A multiplicada por escalar 2:\")\n",
        "alpha = 2\n",
        "for i in range(m):\n",
        "    fila = []\n",
        "    for j in range(n):\n",
        "        x = alpha * A[i][j]\n",
        "        fila.append(x)\n",
        "    print(\" \".join([f\"{x:2}\" for x in fila]))"
      ]
    },
    {
      "cell_type": "markdown",
      "metadata": {
        "id": "eUi2dUbZBcXd"
      },
      "source": [
        "# Matriz identidad"
      ]
    },
    {
      "cell_type": "code",
      "execution_count": 36,
      "metadata": {
        "id": "Zj-W2akLBcXd",
        "outputId": "7bc4144a-78ff-411e-f6aa-5f80193a960d",
        "colab": {
          "base_uri": "https://localhost:8080/"
        }
      },
      "outputs": [
        {
          "output_type": "stream",
          "name": "stdout",
          "text": [
            "Matriz identidad:\n",
            "No se puede crear una matriz identidad, ya que la matriz no es cuadrada.\n"
          ]
        }
      ],
      "source": [
        "def crear_identidad(m, n):\n",
        "    if m != n:\n",
        "        print(\"No se puede crear una matriz identidad, ya que la matriz no es cuadrada.\")\n",
        "        return None\n",
        "\n",
        "    identidad = []\n",
        "    for i in range(m):\n",
        "        fila = []\n",
        "        for j in range(n):\n",
        "            x = 1 if i == j else 0\n",
        "            fila.append(x)\n",
        "        identidad.append(fila)\n",
        "        print(\" \".join([f\"{x:2}\" for x in fila]))\n",
        "    #return identidad\n",
        "\n",
        "print(\"Matriz identidad:\")\n",
        "crear_identidad(m, n)"
      ]
    },
    {
      "cell_type": "markdown",
      "metadata": {
        "id": "C2Ay9fqWBcXd"
      },
      "source": [
        "# Multiplicación de A x B"
      ]
    },
    {
      "cell_type": "code",
      "execution_count": 46,
      "metadata": {
        "id": "Ar_PUWbxBcXd",
        "outputId": "34b6b66c-9908-487c-b7ae-9769c5dc72d1",
        "colab": {
          "base_uri": "https://localhost:8080/"
        }
      },
      "outputs": [
        {
          "output_type": "stream",
          "name": "stdout",
          "text": [
            "Matriz A:\n",
            " 3  3\n",
            " 6  8\n",
            "-7 -9\n",
            "\n",
            "Matriz B:\n",
            " 0 -7  1\n",
            "-5  6 -1\n",
            "\n",
            "Matriz AxB:\n",
            " -15   -3    0\n",
            " -40    6   -2\n",
            "  45   -5    2\n"
          ]
        }
      ],
      "source": [
        "def multiplicacion(A, B):\n",
        "    if len(A[0]) != len(B):\n",
        "        print(\"No se puede multiplicar, ya que las columnas de la primera matriz\"+\n",
        "              \"no son iguales a las filas de la segunda matriz.\")\n",
        "        return None\n",
        "\n",
        "    # Dimensiones de la matriz resultante C\n",
        "    m = len(A)       # Número de filas en A\n",
        "    n = len(B)       # Número de filas en B o columnas en A\n",
        "    p = len(B[0])    # Número de columnas en B\n",
        "    # Inicializa C en cero para todos sus componentes\n",
        "    C = [[0] * p for _ in range(m)]\n",
        "\n",
        "    # Multiplica siguiendo Σn i=k aik * akj\n",
        "    for i in range(m):\n",
        "        for j in range(p):\n",
        "            for k in range(n):\n",
        "                C[i][j] += A[i][k] * B[k][j]\n",
        "\n",
        "    # Imprime el resultado de la matriz C\n",
        "    for fila in C:\n",
        "        print(\" \".join([f\"{x:4}\" for x in fila]))\n",
        "\n",
        "    # return C\n",
        "\n",
        "print(\"Matriz A:\")\n",
        "for i in range(m):\n",
        "    print(\" \".join([f\"{x:2}\" for x in A[i]]))\n",
        "print(\"\")\n",
        "\n",
        "print(\"Matriz B:\")\n",
        "for i in range(n):\n",
        "    print(\" \".join([f\"{x:2}\" for x in B[i]]))\n",
        "print(\"\")\n",
        "\n",
        "print(\"Matriz AxB:\")\n",
        "multiplicacion(A, B)"
      ]
    },
    {
      "cell_type": "code",
      "execution_count": 39,
      "metadata": {
        "id": "QJQydfm5BcXe",
        "outputId": "adef3165-f53c-498e-d29e-5440bc2e54ec",
        "colab": {
          "base_uri": "https://localhost:8080/"
        }
      },
      "outputs": [
        {
          "output_type": "stream",
          "name": "stdout",
          "text": [
            "No se puede multiplicar, ya que las columnas de la primera matrizno son iguales a las filas de la segunda matriz.\n"
          ]
        }
      ],
      "source": [
        "matriz_otra = [(2,1,3),(3,5,6),(3,6,8)]\n",
        "matriz_otra_mas = [(2,5),(3,8),(5,-2),(5,5)]\n",
        "\n",
        "multiplicacion(matriz_otra,matriz_otra_mas)"
      ]
    },
    {
      "cell_type": "markdown",
      "metadata": {
        "id": "6NsKGdWvBcXe"
      },
      "source": [
        "## Matriz inversa\n",
        "#### Sean A y B dos matrices de n x n, B es inversa de A y A de B si B x A y A x B dan como resultado I\n",
        "\n",
        "###### Procedimiento para encontrar la matriz inversa de una matriz cuadrada\n",
        "###### 1- Se escribe la matriz aumentada A | I\n",
        "###### 2- Se usa Gauss Jordan para poner A en su forma escalonada reducida por renglones\n",
        "###### 3- a_ Si A es la matriz identidad, entonces A-1 es la matriz que queda a la derecha\n",
        "###### b- Si la reducción de A conduce a un renglón de todos ceros a la dcha, entonces A no es invertible\n",
        "\n",
        "#### Pasos del algoritmo\n",
        "##### 1) Verificar que la matriz de la que se quiere obtener su inversa sea cuadrada (n x n)\n",
        "##### 2) Verificar que el determinante de la matriz (|A|) no sea cero\n",
        "##### 3) Calcular la matriz de cofactores se calcula como el determinante de la submatriz que queda al eliminar la fila y columna del elemento actual, multiplicado por # (− 1) elevado a 𝑖+𝑗, donde 𝑖 y 𝑗 son los índices de la fila y columna del elemento.\n",
        "##### 4) Calcular la matriz adjunta (adj(A)) que es la trasposición de la matriz de cofactores\n",
        "##### 5) Obtener la inversa de A como 1/|A|*adj(A)"
      ]
    },
    {
      "cell_type": "markdown",
      "metadata": {
        "id": "SuO3pEDhBcXf"
      },
      "source": [
        "### Cálculo del determinante de una matriz"
      ]
    },
    {
      "cell_type": "code",
      "execution_count": 40,
      "metadata": {
        "id": "c2iePaNfBcXf",
        "outputId": "9a5816da-7eec-46b2-b7e1-330eb1fce75c",
        "colab": {
          "base_uri": "https://localhost:8080/"
        }
      },
      "outputs": [
        {
          "output_type": "stream",
          "name": "stdout",
          "text": [
            "El determinante de la matriz es: -35\n"
          ]
        }
      ],
      "source": [
        "def determinante(matriz):\n",
        "    # Obtener el tamaño de la matriz\n",
        "    n = len(matriz)\n",
        "\n",
        "    # Caso base para una matriz 1x1\n",
        "    if n == 1:\n",
        "        return matriz[0][0]\n",
        "\n",
        "    # Caso base para una matriz 2x2\n",
        "    if n == 2:\n",
        "        return matriz[0][0] * matriz[1][1] - matriz[0][1] * matriz[1][0]\n",
        "\n",
        "    # Caso general para matrices mayores de 2x2\n",
        "    det = 0\n",
        "    for col in range(n):\n",
        "        # Crear la submatriz eliminando la primera fila y la columna actual\n",
        "        submatriz = [fila[:col] + fila[col+1:] for fila in matriz[1:]]\n",
        "\n",
        "        # Calcular el determinante de la submatriz\n",
        "        subdet = determinante(submatriz)\n",
        "\n",
        "        # Alternar el signo y sumar al determinante total\n",
        "        det += ((-1) ** col) * matriz[0][col] * subdet\n",
        "\n",
        "    return det\n",
        "\n",
        "# Ejemplo de uso\n",
        "matriz = [\n",
        "    [1, 2, 3],\n",
        "    [0, 1, 4],\n",
        "    [5, 6, 0]\n",
        "]\n",
        "\n",
        "print(\"El determinante de la matriz es:\", determinante(B))"
      ]
    }
  ],
  "metadata": {
    "kernelspec": {
      "display_name": "Python 3",
      "language": "python",
      "name": "python3"
    },
    "language_info": {
      "codemirror_mode": {
        "name": "ipython",
        "version": 3
      },
      "file_extension": ".py",
      "mimetype": "text/x-python",
      "name": "python",
      "nbconvert_exporter": "python",
      "pygments_lexer": "ipython3",
      "version": "3.11.4"
    },
    "orig_nbformat": 4,
    "colab": {
      "provenance": [],
      "include_colab_link": true
    }
  },
  "nbformat": 4,
  "nbformat_minor": 0
}